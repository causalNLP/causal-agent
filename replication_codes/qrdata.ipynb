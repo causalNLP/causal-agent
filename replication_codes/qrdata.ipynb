{
 "cells": [
  {
   "cell_type": "code",
   "execution_count": 1,
   "id": "4a3a0f80-9590-480a-a0bd-ee82b1ce150a",
   "metadata": {},
   "outputs": [
    {
     "name": "stderr",
     "output_type": "stream",
     "text": [
      "/Users/sawal/opt/anaconda3/envs/causal_ml/lib/python3.10/site-packages/tqdm/auto.py:21: TqdmWarning: IProgress not found. Please update jupyter and ipywidgets. See https://ipywidgets.readthedocs.io/en/stable/user_install.html\n",
      "  from .autonotebook import tqdm as notebook_tqdm\n"
     ]
    }
   ],
   "source": [
    "import pandas as pd \n",
    "import numpy as np \n",
    "from dowhy import CausalModel \n",
    "import warnings\n",
    "import statsmodels.formula.api as smf\n",
    "\n",
    "warnings.filterwarnings('ignore')\n",
    "from tqdm import tqdm"
   ]
  },
  {
   "cell_type": "markdown",
   "id": "71d9b53f-d4a6-4643-90d0-4f30da2d5056",
   "metadata": {},
   "source": [
    "## Replication of IHDP datasets"
   ]
  },
  {
   "cell_type": "code",
   "execution_count": 27,
   "id": "119ea385-57f8-483e-af2a-fecc19e7b4ce",
   "metadata": {},
   "outputs": [],
   "source": [
    "def replicate_ihdp(data_loc, data_name):\n",
    "\n",
    "    df = pd.read_csv(data_loc)\n",
    "    causes = [\"x\" + str(i) for i in range(1, 26)] \n",
    "    model = CausalModel(data=df, treatment=\"treatment\", outcome=\"y\", common_causes=causes)\n",
    "    identified_estimand = model.identify_effect(proceed_when_unidentifiable=True)\n",
    "    ate = model.estimate_effect(identified_estimand, target_units=\"ate\",\n",
    "                                     method_name=\"backdoor.propensity_score_weighting\", \n",
    "                                     method_params={\"weighting_scheme\":\"ips_weight\"}) \n",
    "    att = model.estimate_effect(identified_estimand, target_units=\"att\",\n",
    "                                     method_name=\"backdoor.propensity_score_matching\") \n",
    "    atc = model.estimate_effect(identified_estimand, target_units=\"atc\",\n",
    "                                     method_name=\"backdoor.propensity_score_matching\") \n",
    "    diff_in_means = np.mean(df[df[\"treatment\"] == 1][\"y\"]) - np.mean(df[df[\"treatment\"] == 0][\"y\"])\n",
    "    ols = smf.ols(formula=\"y ~ treatment + {}\".format(\"+\".join(causes)), data=df).fit()\n",
    "    print(data_name)\n",
    "    print(\"ATE: {:.3f}, sd: {:.3f}\\nATT: {:.3f}, sd: {:.3f}\\nATC: {:.3f}, sd: {:.3f}\".format(\n",
    "       ate.value, ate.get_standard_error(), att.value, att.get_standard_error(), \n",
    "        atc.value, atc.get_standard_error()))\n",
    "    print(\"Diff in means: \", diff_in_means)\n",
    "    print(\"OLS estimate:\", ols.params[\"treatment\"], \"std:\", ols.bse[\"treatment\"])\n",
    "    print(\"------------------------------------------------------------------------\")"
   ]
  },
  {
   "cell_type": "code",
   "execution_count": 73,
   "id": "2fb8c0fd-1437-4057-8795-0ad4f2c5c6e7",
   "metadata": {},
   "outputs": [],
   "source": [
    "def replicate_jobs(data_loc, data_name):\n",
    "\n",
    "    df = pd.read_csv(data_loc)\n",
    "    causes = [\"x\" + str(i) for i in range(0, 17)] \n",
    "    model = CausalModel(data=df, treatment=\"t\", outcome=\"y\", common_causes=causes)\n",
    "    identified_estimand = model.identify_effect(proceed_when_unidentifiable=True)\n",
    "    ate = model.estimate_effect(identified_estimand, target_units=\"ate\",\n",
    "                                     method_name=\"backdoor.propensity_score_weighting\", \n",
    "                                     method_params={\"weighting_scheme\":\"ips_weight\"}) \n",
    "    att = model.estimate_effect(identified_estimand, target_units=\"att\",\n",
    "                                     method_name=\"backdoor.propensity_score_matching\") \n",
    "    att2 = model.estimate_effect(identified_estimand, target_units=\"att\", \n",
    "                                 method_name=\"backdoor.distance_matching\")\n",
    "    diff_in_means = np.mean(df[df[\"t\"] == 1][\"y\"]) - np.mean(df[df[\"t\"] == 0][\"y\"])\n",
    "    ols = smf.ols(formula=\"y ~ t + {}\".format(\"+\".join(causes)), data=df).fit()\n",
    "\n",
    "    print(data_name)\n",
    "    print(\"ATE: {:.3f}, sd: {:.3f}\\nATT: {:.3f}, sd: {:.3f}\".format(\n",
    "        ate.value, ate.get_standard_error(), att.value, att.get_standard_error()))\n",
    "    print(\"Diff in means: \", diff_in_means)\n",
    "    print(\"OLS estimate:\", ols.params[\"t\"], \"std:\", ols.bse[\"t\"])\n",
    "    print(\"Distance matching: {:.3f}\".format(att2.value))\n",
    "    print(\"-------------------------------------------------------\")"
   ]
  },
  {
   "cell_type": "code",
   "execution_count": 74,
   "id": "f24ae275-8c95-44f1-831d-6950a7ca29ab",
   "metadata": {},
   "outputs": [
    {
     "name": "stderr",
     "output_type": "stream",
     "text": [
      "  0%|                                                    | 0/10 [00:00<?, ?it/s]\n"
     ]
    },
    {
     "ename": "NameError",
     "evalue": "name 'replicate_ihdp' is not defined",
     "output_type": "error",
     "traceback": [
      "\u001b[0;31m---------------------------------------------------------------------------\u001b[0m",
      "\u001b[0;31mNameError\u001b[0m                                 Traceback (most recent call last)",
      "Cell \u001b[0;32mIn[74], line 2\u001b[0m\n\u001b[1;32m      1\u001b[0m \u001b[38;5;28;01mfor\u001b[39;00m i \u001b[38;5;129;01min\u001b[39;00m tqdm(\u001b[38;5;28mrange\u001b[39m(\u001b[38;5;241m10\u001b[39m)):\n\u001b[0;32m----> 2\u001b[0m     \u001b[43mreplicate_ihdp\u001b[49m(\u001b[38;5;124m\"\u001b[39m\u001b[38;5;124m../data/all_data/ihdp_\u001b[39m\u001b[38;5;132;01m{}\u001b[39;00m\u001b[38;5;124m.csv\u001b[39m\u001b[38;5;124m\"\u001b[39m\u001b[38;5;241m.\u001b[39mformat(i), \u001b[38;5;124m\"\u001b[39m\u001b[38;5;124mihdp \u001b[39m\u001b[38;5;132;01m{}\u001b[39;00m\u001b[38;5;124m\"\u001b[39m\u001b[38;5;241m.\u001b[39mformat(i))\n",
      "\u001b[0;31mNameError\u001b[0m: name 'replicate_ihdp' is not defined"
     ]
    }
   ],
   "source": [
    "for i in tqdm(range(10)):\n",
    "    replicate_ihdp(\"../data/all_data/ihdp_{}.csv\".format(i), \"ihdp {}\".format(i))"
   ]
  },
  {
   "cell_type": "markdown",
   "id": "8395fcc8-7f7f-4e49-9591-ce7e9b349914",
   "metadata": {},
   "source": [
    "## Replication of Jobs data "
   ]
  },
  {
   "cell_type": "code",
   "execution_count": 75,
   "id": "69fe4b98-6ede-49f2-86b5-cfb334c9c0d5",
   "metadata": {},
   "outputs": [
    {
     "name": "stdout",
     "output_type": "stream",
     "text": [
      "ATT: 0.021, se: 0.051\n"
     ]
    }
   ],
   "source": [
    "df = pd.read_csv(\"../data/all_data/jobs_1.csv\")\n",
    "causes = [\"x\" + str(i) for i in range(17)]\n",
    "model = CausalModel(data=df, treatment=\"t\", outcome=\"y\", common_causes=causes)\n",
    "identified_estimand = model.identify_effect(proceed_when_unidentifiable=True)\n",
    "att = model.estimate_effect(identified_estimand, target_units=\"att\",\n",
    "                                     method_name=\"backdoor.propensity_score_matching\", \n",
    "                                    method_params={\"weighting_scheme\":\"ips_weight\"})\n",
    "print(\"ATT: {:.3f}, se: {:.3f}\".format(att.value, att.get_standard_error()))\n"
   ]
  },
  {
   "cell_type": "code",
   "execution_count": 76,
   "id": "1e757491-bc29-49d9-b02a-c1c6f8ef296b",
   "metadata": {},
   "outputs": [
    {
     "name": "stderr",
     "output_type": "stream",
     "text": [
      "  0%|                                                    | 0/10 [00:00<?, ?it/s]"
     ]
    },
    {
     "name": "stdout",
     "output_type": "stream",
     "text": [
      "jobs 0\n"
     ]
    },
    {
     "name": "stderr",
     "output_type": "stream",
     "text": [
      " 10%|████▍                                       | 1/10 [00:19<02:52, 19.18s/it]"
     ]
    },
    {
     "name": "stdout",
     "output_type": "stream",
     "text": [
      "ATE: -0.034, sd: 0.032\n",
      "ATT: 0.059, sd: 0.054\n",
      "Diff in means:  -0.08897111883976194\n",
      "OLS estimate: 0.06446299571025646 std: 0.023849629723979464\n",
      "Distance matching: 0.025\n",
      "-------------------------------------------------------\n",
      "jobs 1\n"
     ]
    },
    {
     "name": "stderr",
     "output_type": "stream",
     "text": [
      " 20%|████████▊                                   | 2/10 [00:38<02:34, 19.31s/it]"
     ]
    },
    {
     "name": "stdout",
     "output_type": "stream",
     "text": [
      "ATE: -0.049, sd: 0.033\n",
      "ATT: -0.017, sd: 0.055\n",
      "Diff in means:  -0.10842055194141664\n",
      "OLS estimate: 0.016836468078904262 std: 0.023800721303637282\n",
      "Distance matching: 0.004\n",
      "-------------------------------------------------------\n",
      "jobs 2\n"
     ]
    },
    {
     "name": "stderr",
     "output_type": "stream",
     "text": [
      " 30%|█████████████▏                              | 3/10 [00:57<02:14, 19.19s/it]"
     ]
    },
    {
     "name": "stdout",
     "output_type": "stream",
     "text": [
      "ATE: -0.021, sd: 0.030\n",
      "ATT: 0.062, sd: 0.048\n",
      "Diff in means:  -0.08048998569384835\n",
      "OLS estimate: 0.07230368141390242 std: 0.0235896910089559\n",
      "Distance matching: 0.029\n",
      "-------------------------------------------------------\n",
      "jobs 3\n"
     ]
    },
    {
     "name": "stderr",
     "output_type": "stream",
     "text": [
      " 40%|█████████████████▌                          | 4/10 [01:18<01:58, 19.67s/it]"
     ]
    },
    {
     "name": "stdout",
     "output_type": "stream",
     "text": [
      "ATE: -0.010, sd: 0.029\n",
      "ATT: 0.163, sd: 0.053\n",
      "Diff in means:  -0.07257107675517716\n",
      "OLS estimate: 0.0814871872973357 std: 0.023876561170204168\n",
      "Distance matching: 0.054\n",
      "-------------------------------------------------------\n",
      "jobs 4\n"
     ]
    },
    {
     "name": "stderr",
     "output_type": "stream",
     "text": [
      " 50%|██████████████████████                      | 5/10 [01:38<01:38, 19.78s/it]"
     ]
    },
    {
     "name": "stdout",
     "output_type": "stream",
     "text": [
      "ATE: -0.037, sd: 0.031\n",
      "ATT: 0.057, sd: 0.049\n",
      "Diff in means:  -0.10104529616724733\n",
      "OLS estimate: 0.06382406814018966 std: 0.023867892545071278\n",
      "Distance matching: 0.041\n",
      "-------------------------------------------------------\n",
      "jobs 5\n"
     ]
    },
    {
     "name": "stderr",
     "output_type": "stream",
     "text": [
      " 60%|██████████████████████████▍                 | 6/10 [01:57<01:19, 19.79s/it]"
     ]
    },
    {
     "name": "stdout",
     "output_type": "stream",
     "text": [
      "ATE: -0.016, sd: 0.029\n",
      "ATT: 0.111, sd: 0.057\n",
      "Diff in means:  -0.07909244156909201\n",
      "OLS estimate: 0.08131769143434381 std: 0.02404710975730186\n",
      "Distance matching: 0.119\n",
      "-------------------------------------------------------\n",
      "jobs 6\n"
     ]
    },
    {
     "name": "stderr",
     "output_type": "stream",
     "text": [
      " 70%|██████████████████████████████▊             | 7/10 [02:17<00:59, 19.72s/it]"
     ]
    },
    {
     "name": "stdout",
     "output_type": "stream",
     "text": [
      "ATE: -0.002, sd: 0.028\n",
      "ATT: 0.085, sd: 0.053\n",
      "Diff in means:  -0.06214875307341061\n",
      "OLS estimate: 0.08854021194436783 std: 0.023913372456014888\n",
      "Distance matching: 0.107\n",
      "-------------------------------------------------------\n",
      "jobs 7\n"
     ]
    },
    {
     "name": "stderr",
     "output_type": "stream",
     "text": [
      " 80%|███████████████████████████████████▏        | 8/10 [02:37<00:39, 19.80s/it]"
     ]
    },
    {
     "name": "stdout",
     "output_type": "stream",
     "text": [
      "ATE: -0.023, sd: 0.031\n",
      "ATT: 0.102, sd: 0.052\n",
      "Diff in means:  -0.08066460430191857\n",
      "OLS estimate: 0.05943110062672936 std: 0.023680872752272014\n",
      "Distance matching: 0.047\n",
      "-------------------------------------------------------\n",
      "jobs 8\n"
     ]
    },
    {
     "name": "stderr",
     "output_type": "stream",
     "text": [
      " 90%|███████████████████████████████████████▌    | 9/10 [02:56<00:19, 19.73s/it]"
     ]
    },
    {
     "name": "stdout",
     "output_type": "stream",
     "text": [
      "ATE: -0.016, sd: 0.030\n",
      "ATT: 0.138, sd: 0.052\n",
      "Diff in means:  -0.07479867850505884\n",
      "OLS estimate: 0.08327435528481993 std: 0.023991410558805264\n",
      "Distance matching: 0.069\n",
      "-------------------------------------------------------\n",
      "jobs 9\n"
     ]
    },
    {
     "name": "stderr",
     "output_type": "stream",
     "text": [
      "100%|███████████████████████████████████████████| 10/10 [03:15<00:00, 19.59s/it]"
     ]
    },
    {
     "name": "stdout",
     "output_type": "stream",
     "text": [
      "ATE: -0.030, sd: 0.032\n",
      "ATT: 0.150, sd: 0.051\n",
      "Diff in means:  -0.09014105201292977\n",
      "OLS estimate: 0.06241150192581665 std: 0.02384904138879678\n",
      "Distance matching: 0.081\n",
      "-------------------------------------------------------\n"
     ]
    },
    {
     "name": "stderr",
     "output_type": "stream",
     "text": [
      "\n"
     ]
    }
   ],
   "source": [
    "## takes a while to run (about 20 mins)\n",
    "for i in tqdm(range(10)):\n",
    "    replicate_jobs(\"../data/all_data/jobs_{}.csv\".format(i), \"jobs {}\".format(i))"
   ]
  },
  {
   "cell_type": "markdown",
   "id": "2024d1d8-3790-41dc-ac39-157ae6256cd9",
   "metadata": {},
   "source": [
    "## Replication of wage "
   ]
  },
  {
   "cell_type": "code",
   "execution_count": 48,
   "id": "dbdacefb-c788-47c4-bf67-25e331b33c1c",
   "metadata": {},
   "outputs": [
    {
     "name": "stdout",
     "output_type": "stream",
     "text": [
      "==============================================================================\n",
      "                 coef    std err          t      P>|t|      [0.025      0.975]\n",
      "------------------------------------------------------------------------------\n",
      "Intercept      2.2954      0.089     25.754      0.000       2.121       2.470\n",
      "educ           0.0529      0.007      8.107      0.000       0.040       0.066\n",
      "==============================================================================\n",
      "                            OLS Regression Results                            \n",
      "==============================================================================\n",
      "Dep. Variable:                  hwage   R-squared:                       0.062\n",
      "Model:                            OLS   Adj. R-squared:                  0.061\n",
      "Method:                 Least Squares   F-statistic:                     61.30\n",
      "Date:                Tue, 15 Jul 2025   Prob (F-statistic):           1.32e-14\n",
      "Time:                        23:10:01   Log-Likelihood:                -3437.8\n",
      "No. Observations:                 935   AIC:                             6880.\n",
      "Df Residuals:                     933   BIC:                             6889.\n",
      "Df Model:                           1                                         \n",
      "Covariance Type:            nonrobust                                         \n",
      "=====================================================================================\n",
      "                        coef    std err          t      P>|t|      [0.025      0.975]\n",
      "-------------------------------------------------------------------------------------\n",
      "Intercept            19.9405      0.436     45.685      0.000      19.084      20.797\n",
      "passed_12[T.True]     4.9044      0.626      7.830      0.000       3.675       6.134\n",
      "==============================================================================\n",
      "Omnibus:                      256.135   Durbin-Watson:                   1.872\n",
      "Prob(Omnibus):                  0.000   Jarque-Bera (JB):             1151.019\n",
      "Skew:                           1.203   Prob(JB):                    1.15e-250\n",
      "Kurtosis:                       7.874   Cond. No.                         2.59\n",
      "==============================================================================\n",
      "\n",
      "Notes:\n",
      "[1] Standard Errors assume that the covariance matrix of the errors is correctly specified.\n"
     ]
    }
   ],
   "source": [
    "df = pd.read_csv(\"../data/all_data/wage.csv\")\n",
    "df[\"hwage\"] = df[\"wage\"]/df[\"hours\"]\n",
    "df[\"passed_12\"] = df[\"educ\"] > 12\n",
    "model_1 = smf.ols('np.log(hwage) ~ educ', data=df.assign()).fit()\n",
    "print(model_1.summary().tables[1])\n",
    "\n",
    "controls = ['IQ', 'exper', 'tenure', 'age', 'married', 'black',\n",
    "            'south', 'urban', 'sibs', 'brthord', 'meduc', 'feduc']\n",
    "model_2 = smf.ols('np.log(hwage) ~ educ +' + '+'.join(controls), data=df).fit()\n",
    "model_2.summary().tables[1]\n",
    "model_3 = smf.ols('hwage ~ passed_12', data=df).fit()\n",
    "print(model_3.summary())"
   ]
  },
  {
   "cell_type": "code",
   "execution_count": null,
   "id": "7007b330-bb5f-4d18-b596-c80366f5f00f",
   "metadata": {},
   "outputs": [],
   "source": [
    "df['treatment'] = (df['educ'] > 12).astype(int)\n",
    "model_3 = smf.ols('hwage ~ treatment', data=df).fit()\n",
    "print(model_3.summary())"
   ]
  },
  {
   "cell_type": "markdown",
   "id": "bef82024-63a2-4b3d-b421-d02345375f1f",
   "metadata": {},
   "source": [
    "## Online classes"
   ]
  },
  {
   "cell_type": "code",
   "execution_count": 37,
   "id": "c131d9ef-5080-4dd5-a1f7-64327965b93d",
   "metadata": {
    "scrolled": true
   },
   "outputs": [
    {
     "data": {
      "text/html": [
       "<table class=\"simpletable\">\n",
       "<tr>\n",
       "      <td></td>         <th>coef</th>     <th>std err</th>      <th>t</th>      <th>P>|t|</th>  <th>[0.025</th>    <th>0.975]</th>  \n",
       "</tr>\n",
       "<tr>\n",
       "  <th>Intercept</th> <td>   78.5475</td> <td>    1.113</td> <td>   70.563</td> <td> 0.000</td> <td>   76.353</td> <td>   80.742</td>\n",
       "</tr>\n",
       "<tr>\n",
       "  <th>format_ol</th> <td>   -4.9122</td> <td>    1.680</td> <td>   -2.925</td> <td> 0.004</td> <td>   -8.223</td> <td>   -1.601</td>\n",
       "</tr>\n",
       "</table>"
      ],
      "text/plain": [
       "<class 'statsmodels.iolib.table.SimpleTable'>"
      ]
     },
     "execution_count": 37,
     "metadata": {},
     "output_type": "execute_result"
    }
   ],
   "source": [
    "data = pd.read_csv(\"../data/all_data/online_classroom.csv\").query(\"format_blended==0\")\n",
    "\n",
    "result = smf.ols('falsexam ~ format_ol', data=data).fit()\n",
    "result.summary().tables[1]"
   ]
  },
  {
   "cell_type": "markdown",
   "id": "7bb2d1b3-d9b4-493c-b21d-ea686c1188b8",
   "metadata": {},
   "source": [
    "## Collections email"
   ]
  },
  {
   "cell_type": "code",
   "execution_count": 38,
   "id": "f0a044de-441b-4160-bdfd-687fa596d62b",
   "metadata": {},
   "outputs": [
    {
     "name": "stdout",
     "output_type": "stream",
     "text": [
      "                            OLS Regression Results                            \n",
      "==============================================================================\n",
      "Dep. Variable:               payments   R-squared:                       0.477\n",
      "Model:                            OLS   Adj. R-squared:                  0.477\n",
      "Method:                 Least Squares   F-statistic:                     1522.\n",
      "Date:                Tue, 15 Jul 2025   Prob (F-statistic):               0.00\n",
      "Time:                        22:36:19   Log-Likelihood:                -28692.\n",
      "No. Observations:                5000   AIC:                         5.739e+04\n",
      "Df Residuals:                    4996   BIC:                         5.742e+04\n",
      "Df Model:                           3                                         \n",
      "Covariance Type:            nonrobust                                         \n",
      "================================================================================\n",
      "                   coef    std err          t      P>|t|      [0.025      0.975]\n",
      "--------------------------------------------------------------------------------\n",
      "Intercept      490.8653      9.715     50.527      0.000     471.820     509.911\n",
      "credit_limit     0.1511      0.008     18.833      0.000       0.135       0.167\n",
      "risk_score      -8.0516     38.424     -0.210      0.834     -83.379      67.276\n",
      "email            4.4304      2.130      2.080      0.038       0.255       8.606\n",
      "==============================================================================\n",
      "Omnibus:                        2.329   Durbin-Watson:                   1.987\n",
      "Prob(Omnibus):                  0.312   Jarque-Bera (JB):                2.311\n",
      "Skew:                          -0.032   Prob(JB):                        0.315\n",
      "Kurtosis:                       3.084   Cond. No.                     4.79e+04\n",
      "==============================================================================\n",
      "\n",
      "Notes:\n",
      "[1] Standard Errors assume that the covariance matrix of the errors is correctly specified.\n",
      "[2] The condition number is large, 4.79e+04. This might indicate that there are\n",
      "strong multicollinearity or other numerical problems.\n"
     ]
    }
   ],
   "source": [
    "data = pd.read_csv(\"../data/all_data/collections_email.csv\")\n",
    "## use FWL theorem\n",
    "#model_email = smf.ols('email ~ credit_limit + risk_score', data=data).fit()\n",
    "#model_payments = smf.ols('payments ~ credit_limit + risk_score', data=data).fit()\n",
    "\n",
    "#residuals = pd.DataFrame(dict(res_payments=model_payments.resid, res_email=model_email.resid))\n",
    "\n",
    "#model_treatment = smf.ols('res_payments ~ res_email', data=residuals).fit()\n",
    "#model_treatment.summary().tables[1]\n",
    "\n",
    "model = smf.ols('payments ~ credit_limit + risk_score + email', data=data).fit()\n",
    "print(model.summary())"
   ]
  },
  {
   "cell_type": "markdown",
   "id": "a582831a-ac34-42d7-8a39-3e227921d88b",
   "metadata": {},
   "source": [
    "## Hospitals"
   ]
  },
  {
   "cell_type": "code",
   "execution_count": 66,
   "id": "4d85b3bc-2df9-4a38-b164-31e590d44923",
   "metadata": {},
   "outputs": [
    {
     "name": "stdout",
     "output_type": "stream",
     "text": [
      "days ~ treatment + severity\n"
     ]
    },
    {
     "data": {
      "text/html": [
       "<table class=\"simpletable\">\n",
       "<tr>\n",
       "      <td></td>         <th>coef</th>     <th>std err</th>      <th>t</th>      <th>P>|t|</th>  <th>[0.025</th>    <th>0.975]</th>  \n",
       "</tr>\n",
       "<tr>\n",
       "  <th>Intercept</th> <td>   11.6641</td> <td>    2.000</td> <td>    5.832</td> <td> 0.000</td> <td>    7.681</td> <td>   15.647</td>\n",
       "</tr>\n",
       "<tr>\n",
       "  <th>treatment</th> <td>   -7.5912</td> <td>    2.269</td> <td>   -3.345</td> <td> 0.001</td> <td>  -12.110</td> <td>   -3.073</td>\n",
       "</tr>\n",
       "<tr>\n",
       "  <th>severity</th>  <td>    2.2741</td> <td>    0.154</td> <td>   14.793</td> <td> 0.000</td> <td>    1.968</td> <td>    2.580</td>\n",
       "</tr>\n",
       "</table>"
      ],
      "text/plain": [
       "<class 'statsmodels.iolib.table.SimpleTable'>"
      ]
     },
     "execution_count": 66,
     "metadata": {},
     "output_type": "execute_result"
    }
   ],
   "source": [
    "hospital = pd.read_csv(\"../data/all_data/hospital_treatment.csv\")\n",
    "hosp_4 = smf.ols('days ~ treatment + severity', data=hospital).fit()\n",
    "print(hosp_4.model.formula)\n",
    "hosp_4.summary().tables[1]"
   ]
  },
  {
   "cell_type": "markdown",
   "id": "370b79db-221f-4e6d-a739-74644fcc6883",
   "metadata": {},
   "source": [
    "## AK91"
   ]
  },
  {
   "cell_type": "code",
   "execution_count": 52,
   "id": "abea014d-502a-4651-951e-4678cf988bca",
   "metadata": {},
   "outputs": [
    {
     "name": "stdout",
     "output_type": "stream",
     "text": [
      "                          IV-2SLS Estimation Summary                          \n",
      "==============================================================================\n",
      "Dep. Variable:               log_wage   R-squared:                      0.1217\n",
      "Estimator:                    IV-2SLS   Adj. R-squared:                 0.1215\n",
      "No. Observations:              329509   F-statistic:                 1.028e+04\n",
      "Date:                Tue, Jul 15 2025   P-value (F-stat)                0.0000\n",
      "Time:                        23:41:47   Distribution:                 chi2(60)\n",
      "Cov. Estimator:                robust                                         \n",
      "                                                                              \n",
      "                                     Parameter Estimates                                     \n",
      "=============================================================================================\n",
      "                           Parameter  Std. Err.     T-stat    P-value    Lower CI    Upper CI\n",
      "---------------------------------------------------------------------------------------------\n",
      "Intercept                     4.7468     0.2904     16.348     0.0000      4.1777      5.3158\n",
      "C(year_of_birth)[T.31.0]     -0.0078     0.0063    -1.2384     0.2156     -0.0201      0.0045\n",
      "C(year_of_birth)[T.32.0]     -0.0145     0.0073    -1.9698     0.0489     -0.0288   -7.25e-05\n",
      "C(year_of_birth)[T.33.0]     -0.0174     0.0086    -2.0367     0.0417     -0.0342     -0.0007\n",
      "C(year_of_birth)[T.34.0]     -0.0217     0.0094    -2.3012     0.0214     -0.0401     -0.0032\n",
      "C(year_of_birth)[T.35.0]     -0.0344     0.0108    -3.1821     0.0015     -0.0556     -0.0132\n",
      "C(year_of_birth)[T.36.0]     -0.0347     0.0118    -2.9309     0.0034     -0.0579     -0.0115\n",
      "C(year_of_birth)[T.37.0]     -0.0410     0.0132    -3.0976     0.0020     -0.0670     -0.0151\n",
      "C(year_of_birth)[T.38.0]     -0.0433     0.0152    -2.8520     0.0043     -0.0730     -0.0135\n",
      "C(year_of_birth)[T.39.0]     -0.0547     0.0161    -3.3887     0.0007     -0.0864     -0.0231\n",
      "C(state_of_birth)[T.2.0]      0.2272     0.1060     2.1433     0.0321      0.0194      0.4350\n",
      "C(state_of_birth)[T.4.0]      0.1215     0.0404     3.0083     0.0026      0.0424      0.2007\n",
      "C(state_of_birth)[T.5.0]      0.0431     0.0123     3.5103     0.0004      0.0190      0.0671\n",
      "C(state_of_birth)[T.6.0]      0.1351     0.0557     2.4268     0.0152      0.0260      0.2442\n",
      "C(state_of_birth)[T.8.0]      0.0920     0.0435     2.1143     0.0345      0.0067      0.1774\n",
      "C(state_of_birth)[T.9.0]      0.1051     0.0429     2.4511     0.0142      0.0211      0.1891\n",
      "C(state_of_birth)[T.10.0]     0.0796     0.0280     2.8408     0.0045      0.0247      0.1346\n",
      "C(state_of_birth)[T.11.0]     0.1162     0.0572     2.0317     0.0422      0.0041      0.2282\n",
      "C(state_of_birth)[T.12.0]    -0.0157     0.0278    -0.5651     0.5720     -0.0701      0.0387\n",
      "C(state_of_birth)[T.13.0]    -0.0155     0.0119    -1.3003     0.1935     -0.0389      0.0079\n",
      "C(state_of_birth)[T.15.0]     0.1256     0.0575     2.1857     0.0288      0.0130      0.2382\n",
      "C(state_of_birth)[T.16.0]     0.0718     0.0497     1.4450     0.1485     -0.0256      0.1693\n",
      "C(state_of_birth)[T.17.0]     0.1762     0.0429     4.1080     0.0000      0.0921      0.2603\n",
      "C(state_of_birth)[T.18.0]     0.1341     0.0288     4.6494     0.0000      0.0775      0.1906\n",
      "C(state_of_birth)[T.19.0]     0.0735     0.0382     1.9251     0.0542     -0.0013      0.1483\n",
      "C(state_of_birth)[T.20.0]     0.0420     0.0462     0.9081     0.3638     -0.0486      0.1326\n",
      "C(state_of_birth)[T.21.0]     0.1194     0.0153     7.7839     0.0000      0.0893      0.1495\n",
      "C(state_of_birth)[T.22.0]     0.0883     0.0150     5.8957     0.0000      0.0589      0.1176\n",
      "C(state_of_birth)[T.23.0]    -0.0236     0.0219    -1.0779     0.2811     -0.0666      0.0193\n",
      "C(state_of_birth)[T.24.0]     0.1048     0.0225     4.6641     0.0000      0.0608      0.1489\n",
      "C(state_of_birth)[T.25.0]     0.0783     0.0463     1.6916     0.0907     -0.0124      0.1691\n",
      "C(state_of_birth)[T.26.0]     0.2035     0.0342     5.9550     0.0000      0.1365      0.2705\n",
      "C(state_of_birth)[T.27.0]     0.1236     0.0393     3.1445     0.0017      0.0466      0.2006\n",
      "C(state_of_birth)[T.28.0]    -0.0170     0.0133    -1.2800     0.2005     -0.0431      0.0090\n",
      "C(state_of_birth)[T.29.0]     0.0955     0.0273     3.4927     0.0005      0.0419      0.1491\n",
      "C(state_of_birth)[T.30.0]     0.0479     0.0469     1.0222     0.3067     -0.0440      0.1398\n",
      "C(state_of_birth)[T.31.0]     0.0610     0.0442     1.3793     0.1678     -0.0257      0.1476\n",
      "C(state_of_birth)[T.32.0]     0.1220     0.0609     2.0047     0.0450      0.0027      0.2413\n",
      "C(state_of_birth)[T.33.0]     0.0036     0.0294     0.1226     0.9024     -0.0540      0.0611\n",
      "C(state_of_birth)[T.34.0]     0.1390     0.0453     3.0702     0.0021      0.0503      0.2277\n",
      "C(state_of_birth)[T.35.0]     0.0552     0.0285     1.9373     0.0527     -0.0006      0.1110\n",
      "C(state_of_birth)[T.36.0]     0.1254     0.0517     2.4242     0.0153      0.0240      0.2268\n",
      "C(state_of_birth)[T.37.0]    -0.0562     0.0100    -5.6174     0.0000     -0.0758     -0.0366\n",
      "C(state_of_birth)[T.38.0]     0.1076     0.0360     2.9885     0.0028      0.0370      0.1781\n",
      "C(state_of_birth)[T.39.0]     0.1429     0.0328     4.3559     0.0000      0.0786      0.2071\n",
      "C(state_of_birth)[T.40.0]     0.0679     0.0349     1.9475     0.0515     -0.0004      0.1362\n",
      "C(state_of_birth)[T.41.0]     0.1069     0.0515     2.0749     0.0380      0.0059      0.2079\n",
      "C(state_of_birth)[T.42.0]     0.1103     0.0304     3.6256     0.0003      0.0507      0.1699\n",
      "C(state_of_birth)[T.44.0]     0.0236     0.0352     0.6715     0.5019     -0.0454      0.0927\n",
      "C(state_of_birth)[T.45.0]    -0.0723     0.0163    -4.4362     0.0000     -0.1043     -0.0404\n",
      "C(state_of_birth)[T.46.0]     0.0500     0.0419     1.1946     0.2323     -0.0320      0.1321\n",
      "C(state_of_birth)[T.47.0]     0.0513     0.0115     4.4653     0.0000      0.0288      0.0738\n",
      "C(state_of_birth)[T.48.0]     0.0708     0.0262     2.7014     0.0069      0.0194      0.1221\n",
      "C(state_of_birth)[T.49.0]     0.1001     0.0590     1.6968     0.0897     -0.0155      0.2158\n",
      "C(state_of_birth)[T.50.0]    -0.0508     0.0276    -1.8360     0.0664     -0.1049      0.0034\n",
      "C(state_of_birth)[T.51.0]     0.0362     0.0126     2.8697     0.0041      0.0115      0.0610\n",
      "C(state_of_birth)[T.53.0]     0.1533     0.0511     2.9998     0.0027      0.0532      0.2535\n",
      "C(state_of_birth)[T.54.0]     0.1256     0.0112     11.224     0.0000      0.1037      0.1476\n",
      "C(state_of_birth)[T.55.0]     0.1051     0.0337     3.1212     0.0018      0.0391      0.1711\n",
      "C(state_of_birth)[T.56.0]     0.1100     0.0548     2.0086     0.0446      0.0027      0.2174\n",
      "years_of_schooling            0.0853     0.0255     3.3399     0.0008      0.0352      0.1354\n",
      "=============================================================================================\n",
      "\n",
      "Endogenous: years_of_schooling\n",
      "Instruments: q4\n",
      "Robust Covariance (Heteroskedastic)\n",
      "Debiased: False\n"
     ]
    }
   ],
   "source": [
    "from linearmodels.iv import IV2SLS\n",
    "\n",
    "data = pd.read_csv(\"../data/all_data/ak91.csv\")\n",
    "data['q4'] = (data['quarter_of_birth'] == 4.0).astype(int)\n",
    "formula = 'log_wage ~ 1 + C(year_of_birth) + C(state_of_birth) + [years_of_schooling ~ q4]'\n",
    "iv2sls = IV2SLS.from_formula(formula, data).fit()\n",
    "print(iv2sls.summary)"
   ]
  },
  {
   "cell_type": "markdown",
   "id": "9e072ba9-c99b-44ee-bcf0-e7e469a64f6f",
   "metadata": {},
   "source": [
    "## App engagement"
   ]
  },
  {
   "cell_type": "code",
   "execution_count": 53,
   "id": "c640ecc0-77ff-46cb-9e5d-f9df910fc9cf",
   "metadata": {},
   "outputs": [
    {
     "data": {
      "text/html": [
       "<table class=\"simpletable\">\n",
       "<caption>Parameter Estimates</caption>\n",
       "<tr>\n",
       "         <td></td>        <th>Parameter</th> <th>Std. Err.</th> <th>T-stat</th> <th>P-value</th> <th>Lower CI</th> <th>Upper CI</th>\n",
       "</tr>\n",
       "<tr>\n",
       "  <th>Intercept</th>       <td>69.292</td>    <td>0.3624</td>   <td>191.22</td> <td>0.0000</td>   <td>68.581</td>   <td>70.002</td> \n",
       "</tr>\n",
       "<tr>\n",
       "  <th>push_delivered</th>  <td>3.2938</td>    <td>0.7165</td>   <td>4.5974</td> <td>0.0000</td>   <td>1.8896</td>   <td>4.6981</td> \n",
       "</tr>\n",
       "</table>"
      ],
      "text/plain": [
       "<class 'statsmodels.iolib.table.SimpleTable'>"
      ]
     },
     "execution_count": 53,
     "metadata": {},
     "output_type": "execute_result"
    }
   ],
   "source": [
    "data = pd.read_csv(\"../data/all_data/app_engagement_push.csv\")\n",
    "iv = IV2SLS.from_formula(\"in_app_purchase ~ 1 + [push_delivered ~ push_assigned]\", data).fit()\n",
    "iv.summary.tables[1]"
   ]
  },
  {
   "cell_type": "markdown",
   "id": "0a0c3d06-e45a-4b30-96c9-49d29feab4b6",
   "metadata": {},
   "source": [
    "## Medicine Impact"
   ]
  },
  {
   "cell_type": "code",
   "execution_count": 62,
   "id": "3dadd735-0806-4da9-ad0f-871ebc02dc09",
   "metadata": {},
   "outputs": [
    {
     "name": "stdout",
     "output_type": "stream",
     "text": [
      "Requirement already satisfied: causalinference in /Users/sawal/opt/anaconda3/envs/causal_ml/lib/python3.10/site-packages (0.1.3)\n",
      "       sex        age  severity  medication  recovery\n",
      "0        0  35.049134  0.887658           1        31\n",
      "1        1  41.580323  0.899784           1        49\n",
      "2        1  28.127491  0.486349           0        38\n",
      "3        1  36.375033  0.323091           0        35\n",
      "4        0  25.091717  0.209006           0        15\n",
      "...    ...        ...       ...         ...       ...\n",
      "19995    0  58.910288  0.651681           1        40\n",
      "19996    1  14.383792  0.072034           0         5\n",
      "19997    0  47.987401  0.431465           0        37\n",
      "19998    0  27.824466  0.082126           0         6\n",
      "19999    1  35.185745  0.566556           0        44\n",
      "\n",
      "[20000 rows x 5 columns]\n",
      "\n",
      "Treatment Effect Estimates: Matching\n",
      "\n",
      "                     Est.       S.e.          z      P>|z|      [95% Conf. int.]\n",
      "--------------------------------------------------------------------------------\n",
      "           ATE     -7.709      0.609    -12.649      0.000     -8.903     -6.514\n",
      "           ATC     -6.665      0.246    -27.047      0.000     -7.148     -6.182\n",
      "           ATT     -9.679      1.693     -5.717      0.000    -12.997     -6.361\n",
      "\n"
     ]
    }
   ],
   "source": [
    "med = pd.read_csv(\"../data/all_data/medicine_impact_recovery.csv\")\n",
    "!pip install causalinference\n",
    "from causalinference import CausalModel\n",
    "cm = CausalModel(Y=med[\"recovery\"].values, D=med[\"medication\"].values, X=med[[\"severity\", \"age\", \"sex\"]].values)\n",
    "cm.est_via_matching(matches=1, bias_adj=True)\n",
    "print(cm.estimates)\n",
    "causes = [\"severity\", \"age\", \"sex\"] \n",
    "#model = CausalModel(data=med, treatment=\"medication\", outcome=\"recovery\", common_causes=causes)\n",
    "#identified_estimand = model.identify_effect(proceed_when_unidentifiable=True)\n",
    "#ate = model.estimate_effect(identified_estimand, target_units=\"ate\",\n",
    "#                                     method_name=\"backdoor.propensity_score_matching\") \n",
    "\n",
    "#causal_estimate_dmatch = model.estimate_effect(identified_estimand,\n",
    "#                                              method_name=\"backdoor.distance_matching\",\n",
    "#                                              target_units=\"att\",\n",
    "#                                              method_params={'distance_metric':\"minkowski\", 'p':2})\n",
    "#print(ate)\n",
    "#print(causal_estimate_dmatch)\n"
   ]
  },
  {
   "cell_type": "markdown",
   "id": "dbede11f-3e58-4732-a47d-60cfa0a3c6d4",
   "metadata": {},
   "source": [
    "## Learning Mindset"
   ]
  },
  {
   "cell_type": "code",
   "execution_count": 63,
   "id": "905d610c-7575-460a-bc60-040246800f13",
   "metadata": {},
   "outputs": [
    {
     "name": "stdout",
     "output_type": "stream",
     "text": [
      "ATE: 0.389, se: 0.021\n"
     ]
    }
   ],
   "source": [
    "data = pd.read_csv(\"../data/all_data/learning_mindset.csv\")\n",
    "from dowhy import CausalModel \n",
    "causes = [\"ethnicity\", \"gender\", \"school_urbanicity\"] \n",
    "data_with_categ = pd.concat([data.drop(columns=causes), pd.get_dummies(data[causes], columns=causes, drop_first=False)], axis=1)\n",
    "\n",
    "common_causes = []\n",
    "for col in data_with_categ.columns:\n",
    "    if col != \"schoolid\" and col != \"intervention\" and col != \"achievement_score\":\n",
    "        common_causes.append(col)\n",
    "        \n",
    "model = CausalModel(data=data_with_categ, treatment=\"intervention\", outcome=\"achievement_score\", \n",
    "                   common_causes=common_causes)\n",
    "identified_estimand = model.identify_effect(proceed_when_unidentifiable=True)\n",
    "ate = model.estimate_effect(identified_estimand, target_units=\"ate\",\n",
    "                                     method_name=\"backdoor.propensity_score_weighting\", \n",
    "                                     method_params={\"weighting_scheme\":\"ips_weight\"})\n",
    "print(\"ATE: {:.3f}, se: {:.3f}\".format(ate.value, ate.get_standard_error()))\n"
   ]
  },
  {
   "cell_type": "markdown",
   "id": "00534f34-636a-4b75-9000-b08ae74411c9",
   "metadata": {},
   "source": [
    "## Billboard impact "
   ]
  },
  {
   "cell_type": "code",
   "execution_count": 64,
   "id": "ad2ce444-2b93-442a-a1c4-1d70e01f2e73",
   "metadata": {},
   "outputs": [
    {
     "data": {
      "text/html": [
       "<table class=\"simpletable\">\n",
       "<tr>\n",
       "      <td></td>         <th>coef</th>     <th>std err</th>      <th>t</th>      <th>P>|t|</th>  <th>[0.025</th>    <th>0.975]</th>  \n",
       "</tr>\n",
       "<tr>\n",
       "  <th>Intercept</th> <td>  171.6423</td> <td>    2.363</td> <td>   72.625</td> <td> 0.000</td> <td>  167.009</td> <td>  176.276</td>\n",
       "</tr>\n",
       "<tr>\n",
       "  <th>poa</th>       <td> -125.6263</td> <td>    4.484</td> <td>  -28.015</td> <td> 0.000</td> <td> -134.418</td> <td> -116.835</td>\n",
       "</tr>\n",
       "<tr>\n",
       "  <th>jul</th>       <td>   34.5232</td> <td>    3.036</td> <td>   11.372</td> <td> 0.000</td> <td>   28.571</td> <td>   40.475</td>\n",
       "</tr>\n",
       "<tr>\n",
       "  <th>poa:jul</th>   <td>    6.5246</td> <td>    5.729</td> <td>    1.139</td> <td> 0.255</td> <td>   -4.706</td> <td>   17.755</td>\n",
       "</tr>\n",
       "</table>"
      ],
      "text/plain": [
       "<class 'statsmodels.iolib.table.SimpleTable'>"
      ]
     },
     "execution_count": 64,
     "metadata": {},
     "output_type": "execute_result"
    }
   ],
   "source": [
    "data = pd.read_csv(\"../data/all_data/billboard_impact.csv\")\n",
    "smf.ols('deposits ~ poa*jul', data=data).fit().summary().tables[1]"
   ]
  },
  {
   "cell_type": "markdown",
   "id": "f5301344-fe81-4584-afdb-163f03a3bec3",
   "metadata": {},
   "source": [
    "## Drinking"
   ]
  },
  {
   "cell_type": "code",
   "execution_count": 21,
   "id": "e4febbf8-1995-471d-a514-9639ff701c7c",
   "metadata": {},
   "outputs": [
    {
     "data": {
      "text/html": [
       "<table class=\"simpletable\">\n",
       "<tr>\n",
       "              <td></td>                 <th>coef</th>     <th>std err</th>      <th>t</th>      <th>P>|t|</th>  <th>[0.025</th>    <th>0.975]</th>  \n",
       "</tr>\n",
       "<tr>\n",
       "  <th>Intercept</th>                 <td>   93.6184</td> <td>    0.932</td> <td>  100.399</td> <td> 0.000</td> <td>   91.739</td> <td>   95.498</td>\n",
       "</tr>\n",
       "<tr>\n",
       "  <th>threshold[T.True]</th>         <td>    7.6627</td> <td>    1.319</td> <td>    5.811</td> <td> 0.000</td> <td>    5.005</td> <td>   10.320</td>\n",
       "</tr>\n",
       "<tr>\n",
       "  <th>running</th>                   <td>    0.8270</td> <td>    0.819</td> <td>    1.010</td> <td> 0.318</td> <td>   -0.823</td> <td>    2.477</td>\n",
       "</tr>\n",
       "<tr>\n",
       "  <th>running:threshold[T.True]</th> <td>   -3.6034</td> <td>    1.158</td> <td>   -3.111</td> <td> 0.003</td> <td>   -5.937</td> <td>   -1.269</td>\n",
       "</tr>\n",
       "</table>"
      ],
      "text/plain": [
       "<class 'statsmodels.iolib.table.SimpleTable'>"
      ]
     },
     "execution_count": 21,
     "metadata": {},
     "output_type": "execute_result"
    }
   ],
   "source": [
    "drinking = pd.read_csv(\"../data/all_data/drinking.csv\")\n",
    "drinking[\"running\"] = drinking[\"agecell\"] -21\n",
    "drinking[\"threshold\"] = drinking[\"running\"] > 0\n",
    "model = smf.wls(\"all~running*threshold\", drinking).fit()\n",
    "model.summary().tables[1]"
   ]
  },
  {
   "cell_type": "markdown",
   "id": "ee9cbb8d-939d-40e8-b363-3f141b5aa0fe",
   "metadata": {},
   "source": [
    "## Smoking 2"
   ]
  },
  {
   "cell_type": "code",
   "execution_count": 27,
   "id": "6ae2388e-4b3d-4865-97ba-380bdf1f07b9",
   "metadata": {},
   "outputs": [
    {
     "name": "stdout",
     "output_type": "stream",
     "text": [
      "                            OLS Regression Results                            \n",
      "==============================================================================\n",
      "Dep. Variable:                cigsale   R-squared:                       0.207\n",
      "Model:                            OLS   Adj. R-squared:                  0.205\n",
      "Method:                 Least Squares   F-statistic:                     105.1\n",
      "Date:                Wed, 16 Jul 2025   Prob (F-statistic):           1.99e-60\n",
      "Time:                        12:29:31   Log-Likelihood:                -5793.3\n",
      "No. Observations:                1209   AIC:                         1.159e+04\n",
      "Df Residuals:                    1205   BIC:                         1.161e+04\n",
      "Df Model:                           3                                         \n",
      "Covariance Type:            nonrobust                                         \n",
      "==============================================================================================================\n",
      "                                                 coef    std err          t      P>|t|      [0.025      0.975]\n",
      "--------------------------------------------------------------------------------------------------------------\n",
      "Intercept                                    130.5695      1.087    120.112      0.000     128.437     132.702\n",
      "after_treatment[T.True]                      -28.5114      1.747    -16.318      0.000     -31.939     -25.084\n",
      "california[T.True]                           -14.3590      6.789     -2.115      0.035     -27.678      -1.040\n",
      "after_treatment[T.True]:california[T.True]   -27.3491     10.911     -2.506      0.012     -48.756      -5.942\n",
      "==============================================================================\n",
      "Omnibus:                      470.050   Durbin-Watson:                   0.130\n",
      "Prob(Omnibus):                  0.000   Jarque-Bera (JB):             2334.004\n",
      "Skew:                           1.760   Prob(JB):                         0.00\n",
      "Kurtosis:                       8.826   Cond. No.                         15.4\n",
      "==============================================================================\n",
      "\n",
      "Notes:\n",
      "[1] Standard Errors assume that the covariance matrix of the errors is correctly specified.\n",
      "                            OLS Regression Results                            \n",
      "==============================================================================\n",
      "Dep. Variable:                cigsale   R-squared:                       0.878\n",
      "Model:                            OLS   Adj. R-squared:                  0.870\n",
      "Method:                 Least Squares   F-statistic:                     118.4\n",
      "Date:                Wed, 16 Jul 2025   Prob (F-statistic):               0.00\n",
      "Time:                        12:29:31   Log-Likelihood:                -4663.8\n",
      "No. Observations:                1209   AIC:                             9468.\n",
      "Df Residuals:                    1139   BIC:                             9824.\n",
      "Df Model:                          69                                         \n",
      "Covariance Type:            nonrobust                                         \n",
      "======================================================================================\n",
      "                         coef    std err          t      P>|t|      [0.025      0.975]\n",
      "--------------------------------------------------------------------------------------\n",
      "Intercept            110.4685      2.820     39.169      0.000     104.935     116.002\n",
      "C(year)[T.1971]        3.6308      2.673      1.358      0.175      -1.614       8.876\n",
      "C(year)[T.1972]        8.8744      2.673      3.320      0.001       3.630      14.119\n",
      "C(year)[T.1973]       11.1974      2.673      4.189      0.000       5.953      16.442\n",
      "C(year)[T.1974]       14.3051      2.673      5.352      0.000       9.060      19.550\n",
      "C(year)[T.1975]       16.5205      2.673      6.180      0.000      11.276      21.765\n",
      "C(year)[T.1976]       20.7615      2.673      7.767      0.000      15.517      26.006\n",
      "C(year)[T.1977]       20.5538      2.673      7.689      0.000      15.309      25.799\n",
      "C(year)[T.1978]       19.9462      2.673      7.462      0.000      14.701      25.191\n",
      "C(year)[T.1979]       17.5128      2.673      6.552      0.000      12.268      22.758\n",
      "C(year)[T.1980]       17.4718      2.673      6.536      0.000      12.227      22.717\n",
      "C(year)[T.1981]       17.3308      2.673      6.483      0.000      12.086      22.576\n",
      "C(year)[T.1982]       15.6000      2.673      5.836      0.000      10.355      20.845\n",
      "C(year)[T.1983]       10.5667      2.673      3.953      0.000       5.322      15.811\n",
      "C(year)[T.1984]        4.2282      2.673      1.582      0.114      -1.017       9.473\n",
      "C(year)[T.1985]        2.4359      2.673      0.911      0.362      -2.809       7.681\n",
      "C(year)[T.1986]       -0.1000      2.673     -0.037      0.970      -5.345       5.145\n",
      "C(year)[T.1987]       -3.0872      2.673     -1.155      0.248      -8.332       2.158\n",
      "C(year)[T.1988]       -6.9436      2.673     -2.598      0.010     -12.188      -1.699\n",
      "C(year)[T.1989]      -37.8427      5.060     -7.479      0.000     -47.771     -27.915\n",
      "C(year)[T.1990]      -41.8555      5.060     -8.272      0.000     -51.784     -31.927\n",
      "C(year)[T.1991]      -43.3786      5.060     -8.573      0.000     -53.307     -33.451\n",
      "C(year)[T.1992]      -44.3325      5.060     -8.761      0.000     -54.261     -34.404\n",
      "C(year)[T.1993]      -45.1196      5.060     -8.917      0.000     -55.048     -35.192\n",
      "C(year)[T.1994]      -45.8043      5.060     -9.052      0.000     -55.732     -35.876\n",
      "C(year)[T.1995]      -44.8479      5.060     -8.863      0.000     -54.776     -34.920\n",
      "C(year)[T.1996]      -46.8196      5.060     -9.253      0.000     -56.748     -36.892\n",
      "C(year)[T.1997]      -46.2479      5.060     -9.140      0.000     -56.176     -36.320\n",
      "C(year)[T.1998]      -47.0966      5.060     -9.307      0.000     -57.025     -37.168\n",
      "C(year)[T.1999]      -50.5043      5.060     -9.981      0.000     -60.432     -40.576\n",
      "C(year)[T.2000]      -55.9684      5.060    -11.061      0.000     -65.896     -46.040\n",
      "C(state)[T.2]          7.1000      2.998      2.368      0.018       1.217      12.983\n",
      "C(state)[T.3]         -4.3003      3.450     -1.246      0.213     -11.070       2.469\n",
      "C(state)[T.4]         -0.1581      2.998     -0.053      0.958      -6.041       5.725\n",
      "C(state)[T.5]         -8.6871      2.998     -2.897      0.004     -14.570      -2.804\n",
      "C(state)[T.6]         32.2677      2.998     10.762      0.000      26.385      38.150\n",
      "C(state)[T.7]          8.0645      2.998      2.690      0.007       2.182      13.947\n",
      "C(state)[T.8]         -9.5677      2.998     -3.191      0.001     -15.450      -3.685\n",
      "C(state)[T.9]          1.8581      2.998      0.620      0.536      -4.025       7.741\n",
      "C(state)[T.10]        31.7194      2.998     10.579      0.000      25.837      37.602\n",
      "C(state)[T.11]        -2.5871      2.998     -0.863      0.388      -8.470       3.296\n",
      "C(state)[T.12]        -1.8226      2.998     -0.608      0.543      -7.705       4.060\n",
      "C(state)[T.13]        78.4645      2.998     26.170      0.000      72.582      84.347\n",
      "C(state)[T.14]        11.1742      2.998      3.727      0.000       5.292      17.057\n",
      "C(state)[T.15]        13.9516      2.998      4.653      0.000       8.069      19.834\n",
      "C(state)[T.16]        -8.5903      2.998     -2.865      0.004     -14.473      -2.708\n",
      "C(state)[T.17]         2.6452      2.998      0.882      0.378      -3.238       8.528\n",
      "C(state)[T.18]        19.2516      2.998      6.421      0.000      13.369      25.134\n",
      "C(state)[T.19]        -5.8645      2.998     -1.956      0.051     -11.747       0.018\n",
      "C(state)[T.20]        -8.0355      2.998     -2.680      0.007     -13.918      -2.153\n",
      "C(state)[T.21]        40.5548      2.998     13.526      0.000      34.672      46.438\n",
      "C(state)[T.22]       103.5903      2.998     34.550      0.000      97.708     109.473\n",
      "C(state)[T.23]       -25.2161      2.998     -8.410      0.000     -31.099     -19.333\n",
      "C(state)[T.24]        54.8129      2.998     18.282      0.000      48.930      60.696\n",
      "C(state)[T.25]       -10.7161      2.998     -3.574      0.000     -16.599      -4.833\n",
      "C(state)[T.26]        10.6065      2.998      3.538      0.000       4.724      16.489\n",
      "C(state)[T.27]         9.0419      2.998      3.016      0.003       3.159      14.925\n",
      "C(state)[T.28]        -1.1903      2.998     -0.397      0.691      -7.073       4.692\n",
      "C(state)[T.29]        13.3129      2.998      4.440      0.000       7.430      19.196\n",
      "C(state)[T.30]        13.8839      2.998      4.631      0.000       8.001      19.767\n",
      "C(state)[T.31]        -9.2839      2.998     -3.096      0.002     -15.167      -3.401\n",
      "C(state)[T.32]        11.6258      2.998      3.878      0.000       5.743      17.508\n",
      "C(state)[T.33]        -7.5935      2.998     -2.533      0.011     -13.476      -1.711\n",
      "C(state)[T.34]       -45.6387      2.998    -15.222      0.000     -51.521     -39.756\n",
      "C(state)[T.35]        24.5548      2.998      8.190      0.000      18.672      30.438\n",
      "C(state)[T.36]        19.9839      2.998      6.665      0.000      14.101      25.867\n",
      "C(state)[T.37]         4.9484      2.998      1.650      0.099      -0.934      10.831\n",
      "C(state)[T.38]        -6.0065      2.998     -2.003      0.045     -11.889      -0.124\n",
      "C(state)[T.39]        19.7742      2.998      6.595      0.000      13.892      25.657\n",
      "act_passed[T.True]    27.3491      4.409      6.202      0.000      18.698      36.001\n",
      "==============================================================================\n",
      "Omnibus:                      205.560   Durbin-Watson:                   0.275\n",
      "Prob(Omnibus):                  0.000   Jarque-Bera (JB):             1665.383\n",
      "Skew:                           0.536   Prob(JB):                         0.00\n",
      "Kurtosis:                       8.649   Cond. No.                         56.5\n",
      "==============================================================================\n",
      "\n",
      "Notes:\n",
      "[1] Standard Errors assume that the covariance matrix of the errors is correctly specified.\n"
     ]
    }
   ],
   "source": [
    "data = pd.read_csv(\"../data/all_data/smoking2.csv\")\n",
    "#data = (pd.read_csv(\"../data/all_data/smoking2.csv\")[[\"state\", \"year\", \"cigsale\", \"california\", \"after_treatment\"]]\n",
    "#        .rename(columns={\"california\": \"treated\"})\n",
    "#        .replace({\"state\": {3: \"california\"}}))\n",
    "did_model = smf.ols(\"cigsale ~ after_treatment*california\", data=data).fit()\n",
    "print(did_model.summary())\n",
    "data[\"act_passed\"] = (data[\"year\"] > 1988) * (data[\"state\"] != 3)\n",
    "model2 = smf.ols(\"cigsale ~ C(year) + C(state) + act_passed\", data=data).fit()\n",
    "print(model2.summary())"
   ]
  },
  {
   "cell_type": "markdown",
   "id": "41900fcc-0e23-42c0-a99c-17985617139f",
   "metadata": {},
   "source": [
    "## Trainee"
   ]
  },
  {
   "cell_type": "code",
   "execution_count": 30,
   "id": "2042faf2-94b0-4fc4-8a1b-b87ea4e85c5d",
   "metadata": {},
   "outputs": [
    {
     "name": "stdout",
     "output_type": "stream",
     "text": [
      "att: 2457.895, se: 2878.881\n"
     ]
    }
   ],
   "source": [
    "trainee = pd.read_csv(\"../data/all_data/trainee_unique_on_age.csv\")\n",
    "unique_on_age = (trainee.query(\"trainees==0\").drop_duplicates(\"age\"))\n",
    "\n",
    "from dowhy import CausalModel \n",
    "cm = CausalModel(data=trainee, treatment=\"trainees\", outcome=\"earnings\", \n",
    "                 common_causes = [\"age\"])\n",
    "estimand = cm.identify_effect(proceed_when_unidentifiable=True)\n",
    "att = cm.estimate_effect(estimand, target_units=\"att\",\n",
    "                                     method_name=\"backdoor.propensity_score_matching\")\n",
    "print(\"att: {:.3f}, se: {:.3f}\".format(att.value, att.get_standard_error()))"
   ]
  },
  {
   "cell_type": "markdown",
   "id": "524559f8-084b-403f-8ce8-925de279b72a",
   "metadata": {},
   "source": [
    "## MPs"
   ]
  },
  {
   "cell_type": "code",
   "execution_count": 46,
   "id": "b108c99c-31fc-4529-876e-a1a7a901e3ff",
   "metadata": {},
   "outputs": [
    {
     "name": "stdout",
     "output_type": "stream",
     "text": [
      "Index(['surname', 'firstname', 'party', 'gross', 'net', 'yob', 'yod',\n",
      "       'margin.pre', 'region', 'margin'],\n",
      "      dtype='object')\n",
      "Tory MP avg net wealth: 13.187801747016026\n",
      "Tory non-MP avg net wealth: 11.812966722503244\n",
      "1.374835024512782\n"
     ]
    }
   ],
   "source": [
    "MPs = pd.read_csv(\"../data/all_data/MPs.csv\")\n",
    "print(MPs.columns)\n",
    "# Subset by party\n",
    "labour = MPs[MPs['party'] == 'labour']\n",
    "tory = MPs[MPs['party'] == 'tory']\n",
    "\n",
    "# Tory regressions\n",
    "tory_fit1 = smf.ols('net ~ margin', data=tory[tory['margin'] < 0]).fit()\n",
    "tory_fit2 = smf.ols('net ~ margin', data=tory[tory['margin'] > 0]).fit()\n",
    "\n",
    "# Prediction ranges\n",
    "y1t_range = [tory['margin'].min(), 0]\n",
    "y2t_range = [0, tory['margin'].max()]\n",
    "\n",
    "# Predictions\n",
    "y1_tory = tory_fit1.predict(pd.DataFrame({'margin': y1t_range}))\n",
    "y2_tory = tory_fit2.predict(pd.DataFrame({'margin': y2t_range}))\n",
    "\n",
    "\n",
    "tory_MP = y2_tory.iloc[0]\n",
    "tory_nonMP = y1_tory.iloc[0]\n",
    "\n",
    "print(\"Tory MP avg net wealth:\", tory_MP)\n",
    "print(\"Tory non-MP avg net wealth:\", tory_nonMP)\n",
    "print(tory_MP - tory_nonMP)"
   ]
  },
  {
   "cell_type": "code",
   "execution_count": 47,
   "id": "7e080f22-69ce-42ef-9f2b-36babcaec2d6",
   "metadata": {},
   "outputs": [
    {
     "name": "stdout",
     "output_type": "stream",
     "text": [
      "                            OLS Regression Results                            \n",
      "==============================================================================\n",
      "Dep. Variable:                  water   R-squared:                       0.017\n",
      "Model:                            OLS   Adj. R-squared:                  0.014\n",
      "Method:                 Least Squares   F-statistic:                     5.493\n",
      "Date:                Wed, 16 Jul 2025   Prob (F-statistic):             0.0197\n",
      "Time:                        12:59:32   Log-Likelihood:                -1586.1\n",
      "No. Observations:                 322   AIC:                             3176.\n",
      "Df Residuals:                     320   BIC:                             3184.\n",
      "Df Model:                           1                                         \n",
      "Covariance Type:            nonrobust                                         \n",
      "==============================================================================\n",
      "                 coef    std err          t      P>|t|      [0.025      0.975]\n",
      "------------------------------------------------------------------------------\n",
      "Intercept     14.7383      2.286      6.446      0.000      10.240      19.236\n",
      "reserved       9.2524      3.948      2.344      0.020       1.486      17.019\n",
      "==============================================================================\n",
      "Omnibus:                      398.104   Durbin-Watson:                   1.990\n",
      "Prob(Omnibus):                  0.000   Jarque-Bera (JB):            26829.354\n",
      "Skew:                           5.690   Prob(JB):                         0.00\n",
      "Kurtosis:                      46.246   Cond. No.                         2.41\n",
      "==============================================================================\n",
      "\n",
      "Notes:\n",
      "[1] Standard Errors assume that the covariance matrix of the errors is correctly specified.\n"
     ]
    }
   ],
   "source": [
    "data = pd.read_csv(\"../data/all_data/women.csv\")\n",
    "\n",
    "reg = smf.ols(\"water ~ reserved\", data=data).fit()\n",
    "print(reg.summary())"
   ]
  },
  {
   "cell_type": "markdown",
   "id": "1c330ccb-2563-4fef-b763-150cca14eea9",
   "metadata": {},
   "source": [
    "## Voter Turnout "
   ]
  },
  {
   "cell_type": "code",
   "execution_count": 48,
   "id": "ba6f3014-d75d-4608-95af-2927799e8810",
   "metadata": {},
   "outputs": [
    {
     "name": "stdout",
     "output_type": "stream",
     "text": [
      "                            OLS Regression Results                            \n",
      "==============================================================================\n",
      "Dep. Variable:            primary2006   R-squared:                       0.029\n",
      "Model:                            OLS   Adj. R-squared:                  0.029\n",
      "Method:                 Least Squares   F-statistic:                     1326.\n",
      "Date:                Wed, 16 Jul 2025   Prob (F-statistic):               0.00\n",
      "Time:                        13:07:50   Log-Likelihood:            -1.9418e+05\n",
      "No. Observations:              305866   AIC:                         3.884e+05\n",
      "Df Residuals:                  305858   BIC:                         3.885e+05\n",
      "Df Model:                           7                                         \n",
      "Covariance Type:            nonrobust                                         \n",
      "=========================================================================================================================================\n",
      "                                                                            coef    std err          t      P>|t|      [0.025      0.975]\n",
      "-----------------------------------------------------------------------------------------------------------------------------------------\n",
      "Intercept                                                                 0.2371      0.001    175.879      0.000       0.234       0.240\n",
      "C(messages, Treatment(reference='Control'))[T.Civic Duty]                 0.0183      0.003      5.541      0.000       0.012       0.025\n",
      "C(messages, Treatment(reference='Control'))[T.Hawthorne]                  0.0233      0.003      7.037      0.000       0.017       0.030\n",
      "C(messages, Treatment(reference='Control'))[T.Neighbors]                  0.0693      0.003     20.881      0.000       0.063       0.076\n",
      "primary2004                                                               0.1487      0.002     69.787      0.000       0.145       0.153\n",
      "primary2004:C(messages, Treatment(reference='Control'))[T.Civic Duty]    -0.0007      0.005     -0.125      0.901      -0.011       0.010\n",
      "primary2004:C(messages, Treatment(reference='Control'))[T.Hawthorne]      0.0050      0.005      0.956      0.339      -0.005       0.015\n",
      "primary2004:C(messages, Treatment(reference='Control'))[T.Neighbors]      0.0272      0.005      5.226      0.000       0.017       0.037\n",
      "==============================================================================\n",
      "Omnibus:                   511195.768   Durbin-Watson:                   1.422\n",
      "Prob(Omnibus):                  0.000   Jarque-Bera (JB):            50852.104\n",
      "Skew:                           0.778   Prob(JB):                         0.00\n",
      "Kurtosis:                       1.747   Cond. No.                         9.21\n",
      "==============================================================================\n",
      "\n",
      "Notes:\n",
      "[1] Standard Errors assume that the covariance matrix of the errors is correctly specified.\n"
     ]
    }
   ],
   "source": [
    "data = pd.read_csv(\"../data/all_data/social.csv\")\n",
    "reg1 = smf.ols(\"primary2006 ~ primary2004 * C(messages, Treatment(reference='Control'))\", data=data).fit()\n",
    "## see the coefficient for primary2004:C(messages, Treatment(reference='Control'))[T.Neighbors] \n",
    "print(reg1.summary())"
   ]
  },
  {
   "cell_type": "code",
   "execution_count": 60,
   "id": "0bf8dbce-ba30-4019-83c0-be17a1e38b19",
   "metadata": {},
   "outputs": [],
   "source": [
    "data.to_csv(\"voter_turnout_new.csv\", index=False)\n",
    "data_small = data[(data[\"messages\"] == \"Neighbors\") | (data[\"messages\"] == \"Control\")]\n",
    "reg1 = smf.ols(\"primary2006 ~  C(messages, Treatment(reference='Control')) * C(age)\", \n",
    "               data=data_small).fit()\n"
   ]
  },
  {
   "cell_type": "code",
   "execution_count": 61,
   "id": "12bfffda-6d1c-413c-a255-ffcf508c3f4a",
   "metadata": {},
   "outputs": [
    {
     "name": "stdout",
     "output_type": "stream",
     "text": [
      "                            OLS Regression Results                            \n",
      "==============================================================================\n",
      "Dep. Variable:            primary2006   R-squared:                       0.028\n",
      "Model:                            OLS   Adj. R-squared:                  0.027\n",
      "Method:                 Least Squares   F-statistic:                     39.45\n",
      "Date:                Wed, 16 Jul 2025   Prob (F-statistic):               0.00\n",
      "Time:                        13:46:32   Log-Likelihood:            -1.4542e+05\n",
      "No. Observations:              229444   AIC:                         2.912e+05\n",
      "Df Residuals:                  229276   BIC:                         2.929e+05\n",
      "Df Model:                         167                                         \n",
      "Covariance Type:            nonrobust                                         \n",
      "==========================================================================================================================================\n",
      "                                                                             coef    std err          t      P>|t|      [0.025      0.975]\n",
      "------------------------------------------------------------------------------------------------------------------------------------------\n",
      "Intercept                                                                  0.1318      0.009     14.672      0.000       0.114       0.149\n",
      "C(messages, Treatment(reference='Control'))[T.Neighbors]                   0.0206      0.022      0.943      0.346      -0.022       0.063\n",
      "C(age)[T.23]                                                              -0.0004      0.012     -0.031      0.975      -0.025       0.024\n",
      "C(age)[T.24]                                                              -0.0075      0.013     -0.596      0.551      -0.032       0.017\n",
      "C(age)[T.25]                                                              -0.0089      0.013     -0.685      0.493      -0.034       0.017\n",
      "C(age)[T.26]                                                              -0.0006      0.013     -0.042      0.967      -0.027       0.025\n",
      "C(age)[T.27]                                                               0.0155      0.014      1.113      0.266      -0.012       0.043\n",
      "C(age)[T.28]                                                               0.0266      0.015      1.767      0.077      -0.003       0.056\n",
      "C(age)[T.29]                                                               0.0426      0.016      2.725      0.006       0.012       0.073\n",
      "C(age)[T.30]                                                               0.0861      0.016      5.362      0.000       0.055       0.118\n",
      "C(age)[T.31]                                                               0.1092      0.016      6.724      0.000       0.077       0.141\n",
      "C(age)[T.32]                                                               0.1759      0.016     10.897      0.000       0.144       0.208\n",
      "C(age)[T.33]                                                               0.1293      0.016      8.210      0.000       0.098       0.160\n",
      "C(age)[T.34]                                                               0.1565      0.015     10.328      0.000       0.127       0.186\n",
      "C(age)[T.35]                                                               0.1486      0.015      9.903      0.000       0.119       0.178\n",
      "C(age)[T.36]                                                               0.1758      0.014     12.460      0.000       0.148       0.203\n",
      "C(age)[T.37]                                                               0.1461      0.013     10.957      0.000       0.120       0.172\n",
      "C(age)[T.38]                                                               0.1655      0.013     12.975      0.000       0.140       0.190\n",
      "C(age)[T.39]                                                               0.1464      0.012     12.144      0.000       0.123       0.170\n",
      "C(age)[T.40]                                                               0.1303      0.012     10.860      0.000       0.107       0.154\n",
      "C(age)[T.41]                                                               0.1233      0.012     10.476      0.000       0.100       0.146\n",
      "C(age)[T.42]                                                               0.1267      0.012     10.993      0.000       0.104       0.149\n",
      "C(age)[T.43]                                                               0.1272      0.011     11.197      0.000       0.105       0.150\n",
      "C(age)[T.44]                                                               0.1306      0.011     11.713      0.000       0.109       0.152\n",
      "C(age)[T.45]                                                               0.1240      0.011     11.257      0.000       0.102       0.146\n",
      "C(age)[T.46]                                                               0.1346      0.011     12.323      0.000       0.113       0.156\n",
      "C(age)[T.47]                                                               0.1365      0.011     12.614      0.000       0.115       0.158\n",
      "C(age)[T.48]                                                               0.1436      0.011     13.273      0.000       0.122       0.165\n",
      "C(age)[T.49]                                                               0.1450      0.011     13.416      0.000       0.124       0.166\n",
      "C(age)[T.50]                                                               0.1605      0.011     14.829      0.000       0.139       0.182\n",
      "C(age)[T.51]                                                               0.1611      0.011     14.902      0.000       0.140       0.182\n",
      "C(age)[T.52]                                                               0.1591      0.011     14.765      0.000       0.138       0.180\n",
      "C(age)[T.53]                                                               0.1583      0.011     14.636      0.000       0.137       0.180\n",
      "C(age)[T.54]                                                               0.1709      0.011     15.810      0.000       0.150       0.192\n",
      "C(age)[T.55]                                                               0.1823      0.011     16.791      0.000       0.161       0.204\n",
      "C(age)[T.56]                                                               0.1939      0.011     17.746      0.000       0.173       0.215\n",
      "C(age)[T.57]                                                               0.1684      0.011     15.391      0.000       0.147       0.190\n",
      "C(age)[T.58]                                                               0.2077      0.011     18.774      0.000       0.186       0.229\n",
      "C(age)[T.59]                                                               0.2096      0.011     18.829      0.000       0.188       0.231\n",
      "C(age)[T.60]                                                               0.2157      0.011     19.273      0.000       0.194       0.238\n",
      "C(age)[T.61]                                                               0.2066      0.011     18.658      0.000       0.185       0.228\n",
      "C(age)[T.62]                                                               0.2147      0.011     18.866      0.000       0.192       0.237\n",
      "C(age)[T.63]                                                               0.2470      0.012     20.621      0.000       0.224       0.271\n",
      "C(age)[T.64]                                                               0.2457      0.012     20.269      0.000       0.222       0.269\n",
      "C(age)[T.65]                                                               0.2484      0.012     20.739      0.000       0.225       0.272\n",
      "C(age)[T.66]                                                               0.2680      0.012     22.163      0.000       0.244       0.292\n",
      "C(age)[T.67]                                                               0.2703      0.013     21.208      0.000       0.245       0.295\n",
      "C(age)[T.68]                                                               0.2718      0.013     20.755      0.000       0.246       0.297\n",
      "C(age)[T.69]                                                               0.2718      0.014     20.135      0.000       0.245       0.298\n",
      "C(age)[T.70]                                                               0.2600      0.013     19.285      0.000       0.234       0.286\n",
      "C(age)[T.71]                                                               0.2746      0.014     19.793      0.000       0.247       0.302\n",
      "C(age)[T.72]                                                               0.2809      0.015     19.366      0.000       0.253       0.309\n",
      "C(age)[T.73]                                                               0.2702      0.015     18.408      0.000       0.241       0.299\n",
      "C(age)[T.74]                                                               0.2241      0.015     14.651      0.000       0.194       0.254\n",
      "C(age)[T.75]                                                               0.2290      0.016     14.170      0.000       0.197       0.261\n",
      "C(age)[T.76]                                                               0.2422      0.016     15.034      0.000       0.211       0.274\n",
      "C(age)[T.77]                                                               0.2533      0.016     15.550      0.000       0.221       0.285\n",
      "C(age)[T.78]                                                               0.2326      0.016     14.185      0.000       0.200       0.265\n",
      "C(age)[T.79]                                                               0.2536      0.017     14.705      0.000       0.220       0.287\n",
      "C(age)[T.80]                                                               0.2406      0.018     13.309      0.000       0.205       0.276\n",
      "C(age)[T.81]                                                               0.2054      0.019     11.064      0.000       0.169       0.242\n",
      "C(age)[T.82]                                                               0.2356      0.019     12.151      0.000       0.198       0.274\n",
      "C(age)[T.83]                                                               0.1801      0.020      9.173      0.000       0.142       0.219\n",
      "C(age)[T.84]                                                               0.1970      0.021      9.464      0.000       0.156       0.238\n",
      "C(age)[T.85]                                                               0.2284      0.022     10.219      0.000       0.185       0.272\n",
      "C(age)[T.86]                                                               0.1655      0.023      7.061      0.000       0.120       0.211\n",
      "C(age)[T.87]                                                               0.2086      0.024      8.718      0.000       0.162       0.256\n",
      "C(age)[T.88]                                                               0.1387      0.029      4.839      0.000       0.083       0.195\n",
      "C(age)[T.89]                                                               0.1832      0.029      6.311      0.000       0.126       0.240\n",
      "C(age)[T.90]                                                               0.1439      0.031      4.702      0.000       0.084       0.204\n",
      "C(age)[T.91]                                                               0.1446      0.034      4.308      0.000       0.079       0.210\n",
      "C(age)[T.92]                                                               0.0787      0.038      2.068      0.039       0.004       0.153\n",
      "C(age)[T.93]                                                               0.0874      0.039      2.252      0.024       0.011       0.163\n",
      "C(age)[T.94]                                                               0.1214      0.052      2.329      0.020       0.019       0.224\n",
      "C(age)[T.95]                                                               0.1887      0.052      3.599      0.000       0.086       0.291\n",
      "C(age)[T.96]                                                               0.0723      0.066      1.099      0.272      -0.057       0.201\n",
      "C(age)[T.97]                                                               0.1182      0.094      1.264      0.206      -0.065       0.302\n",
      "C(age)[T.98]                                                               0.0682      0.102      0.666      0.505      -0.133       0.269\n",
      "C(age)[T.99]                                                               0.1035      0.111      0.932      0.351      -0.114       0.321\n",
      "C(age)[T.100]                                                              0.2432      0.162      1.506      0.132      -0.073       0.560\n",
      "C(age)[T.101]                                                              0.1682      0.145      1.164      0.245      -0.115       0.452\n",
      "C(age)[T.102]                                                             -0.1318      0.228     -0.577      0.564      -0.579       0.316\n",
      "C(age)[T.103]                                                             -0.1318      0.186     -0.707      0.480      -0.497       0.234\n",
      "C(age)[T.104]                                                             -0.1318      0.264     -0.500      0.617      -0.648       0.385\n",
      "C(age)[T.105]                                                             -0.1318      0.456     -0.289      0.773      -1.026       0.763\n",
      "C(age)[T.106]                                                             -0.1318      0.323     -0.408      0.683      -0.764       0.501\n",
      "C(age)[T.108]                                                              0.2682      0.204      1.313      0.189      -0.132       0.668\n",
      "C(messages, Treatment(reference='Control'))[T.Neighbors]:C(age)[T.23]     -0.0081      0.030     -0.266      0.790      -0.068       0.052\n",
      "C(messages, Treatment(reference='Control'))[T.Neighbors]:C(age)[T.24]      0.0246      0.031      0.799      0.424      -0.036       0.085\n",
      "C(messages, Treatment(reference='Control'))[T.Neighbors]:C(age)[T.25]      0.0549      0.032      1.739      0.082      -0.007       0.117\n",
      "C(messages, Treatment(reference='Control'))[T.Neighbors]:C(age)[T.26]      0.0240      0.032      0.741      0.459      -0.039       0.087\n",
      "C(messages, Treatment(reference='Control'))[T.Neighbors]:C(age)[T.27]     -0.0134      0.034     -0.391      0.696      -0.081       0.054\n",
      "C(messages, Treatment(reference='Control'))[T.Neighbors]:C(age)[T.28]      0.0344      0.036      0.947      0.344      -0.037       0.105\n",
      "C(messages, Treatment(reference='Control'))[T.Neighbors]:C(age)[T.29]      0.0113      0.038      0.296      0.768      -0.064       0.086\n",
      "C(messages, Treatment(reference='Control'))[T.Neighbors]:C(age)[T.30]      0.0136      0.039      0.349      0.727      -0.063       0.090\n",
      "C(messages, Treatment(reference='Control'))[T.Neighbors]:C(age)[T.31]      0.0087      0.038      0.227      0.820      -0.066       0.084\n",
      "C(messages, Treatment(reference='Control'))[T.Neighbors]:C(age)[T.32]      0.0157      0.039      0.407      0.684      -0.060       0.091\n",
      "C(messages, Treatment(reference='Control'))[T.Neighbors]:C(age)[T.33]      0.0964      0.037      2.597      0.009       0.024       0.169\n",
      "C(messages, Treatment(reference='Control'))[T.Neighbors]:C(age)[T.34]      0.0643      0.037      1.716      0.086      -0.009       0.138\n",
      "C(messages, Treatment(reference='Control'))[T.Neighbors]:C(age)[T.35]      0.0669      0.037      1.811      0.070      -0.006       0.139\n",
      "C(messages, Treatment(reference='Control'))[T.Neighbors]:C(age)[T.36]      0.0335      0.035      0.957      0.338      -0.035       0.102\n",
      "C(messages, Treatment(reference='Control'))[T.Neighbors]:C(age)[T.37]      0.0585      0.032      1.843      0.065      -0.004       0.121\n",
      "C(messages, Treatment(reference='Control'))[T.Neighbors]:C(age)[T.38]      0.0729      0.031      2.372      0.018       0.013       0.133\n",
      "C(messages, Treatment(reference='Control'))[T.Neighbors]:C(age)[T.39]      0.0485      0.029      1.649      0.099      -0.009       0.106\n",
      "C(messages, Treatment(reference='Control'))[T.Neighbors]:C(age)[T.40]      0.0533      0.029      1.808      0.071      -0.004       0.111\n",
      "C(messages, Treatment(reference='Control'))[T.Neighbors]:C(age)[T.41]      0.0849      0.029      2.960      0.003       0.029       0.141\n",
      "C(messages, Treatment(reference='Control'))[T.Neighbors]:C(age)[T.42]      0.0727      0.028      2.555      0.011       0.017       0.128\n",
      "C(messages, Treatment(reference='Control'))[T.Neighbors]:C(age)[T.43]      0.1031      0.028      3.720      0.000       0.049       0.157\n",
      "C(messages, Treatment(reference='Control'))[T.Neighbors]:C(age)[T.44]      0.0555      0.027      2.048      0.041       0.002       0.109\n",
      "C(messages, Treatment(reference='Control'))[T.Neighbors]:C(age)[T.45]      0.0903      0.027      3.351      0.001       0.037       0.143\n",
      "C(messages, Treatment(reference='Control'))[T.Neighbors]:C(age)[T.46]      0.0577      0.026      2.178      0.029       0.006       0.110\n",
      "C(messages, Treatment(reference='Control'))[T.Neighbors]:C(age)[T.47]      0.0505      0.026      1.918      0.055      -0.001       0.102\n",
      "C(messages, Treatment(reference='Control'))[T.Neighbors]:C(age)[T.48]      0.0808      0.027      3.046      0.002       0.029       0.133\n",
      "C(messages, Treatment(reference='Control'))[T.Neighbors]:C(age)[T.49]      0.0724      0.026      2.759      0.006       0.021       0.124\n",
      "C(messages, Treatment(reference='Control'))[T.Neighbors]:C(age)[T.50]      0.0459      0.026      1.737      0.082      -0.006       0.098\n",
      "C(messages, Treatment(reference='Control'))[T.Neighbors]:C(age)[T.51]      0.0385      0.026      1.457      0.145      -0.013       0.090\n",
      "C(messages, Treatment(reference='Control'))[T.Neighbors]:C(age)[T.52]      0.0470      0.026      1.793      0.073      -0.004       0.098\n",
      "C(messages, Treatment(reference='Control'))[T.Neighbors]:C(age)[T.53]      0.0906      0.027      3.413      0.001       0.039       0.143\n",
      "C(messages, Treatment(reference='Control'))[T.Neighbors]:C(age)[T.54]      0.0760      0.027      2.863      0.004       0.024       0.128\n",
      "C(messages, Treatment(reference='Control'))[T.Neighbors]:C(age)[T.55]      0.0590      0.027      2.210      0.027       0.007       0.111\n",
      "C(messages, Treatment(reference='Control'))[T.Neighbors]:C(age)[T.56]      0.0310      0.027      1.158      0.247      -0.021       0.083\n",
      "C(messages, Treatment(reference='Control'))[T.Neighbors]:C(age)[T.57]      0.0981      0.027      3.654      0.000       0.045       0.151\n",
      "C(messages, Treatment(reference='Control'))[T.Neighbors]:C(age)[T.58]      0.0714      0.027      2.642      0.008       0.018       0.124\n",
      "C(messages, Treatment(reference='Control'))[T.Neighbors]:C(age)[T.59]      0.0342      0.027      1.257      0.209      -0.019       0.088\n",
      "C(messages, Treatment(reference='Control'))[T.Neighbors]:C(age)[T.60]      0.0257      0.027      0.935      0.350      -0.028       0.080\n",
      "C(messages, Treatment(reference='Control'))[T.Neighbors]:C(age)[T.61]      0.0545      0.027      2.016      0.044       0.002       0.108\n",
      "C(messages, Treatment(reference='Control'))[T.Neighbors]:C(age)[T.62]      0.0777      0.027      2.828      0.005       0.024       0.132\n",
      "C(messages, Treatment(reference='Control'))[T.Neighbors]:C(age)[T.63]      0.0760      0.029      2.607      0.009       0.019       0.133\n",
      "C(messages, Treatment(reference='Control'))[T.Neighbors]:C(age)[T.64]      0.0584      0.029      1.996      0.046       0.001       0.116\n",
      "C(messages, Treatment(reference='Control'))[T.Neighbors]:C(age)[T.65]      0.0794      0.029      2.730      0.006       0.022       0.136\n",
      "C(messages, Treatment(reference='Control'))[T.Neighbors]:C(age)[T.66]      0.1318      0.030      4.463      0.000       0.074       0.190\n",
      "C(messages, Treatment(reference='Control'))[T.Neighbors]:C(age)[T.67]      0.1054      0.031      3.374      0.001       0.044       0.167\n",
      "C(messages, Treatment(reference='Control'))[T.Neighbors]:C(age)[T.68]      0.0912      0.032      2.892      0.004       0.029       0.153\n",
      "C(messages, Treatment(reference='Control'))[T.Neighbors]:C(age)[T.69]      0.0539      0.033      1.654      0.098      -0.010       0.118\n",
      "C(messages, Treatment(reference='Control'))[T.Neighbors]:C(age)[T.70]      0.1168      0.034      3.475      0.001       0.051       0.183\n",
      "C(messages, Treatment(reference='Control'))[T.Neighbors]:C(age)[T.71]      0.1042      0.034      3.101      0.002       0.038       0.170\n",
      "C(messages, Treatment(reference='Control'))[T.Neighbors]:C(age)[T.72]      0.0723      0.034      2.097      0.036       0.005       0.140\n",
      "C(messages, Treatment(reference='Control'))[T.Neighbors]:C(age)[T.73]     -0.0017      0.036     -0.046      0.963      -0.073       0.069\n",
      "C(messages, Treatment(reference='Control'))[T.Neighbors]:C(age)[T.74]      0.1198      0.037      3.221      0.001       0.047       0.193\n",
      "C(messages, Treatment(reference='Control'))[T.Neighbors]:C(age)[T.75]      0.1001      0.039      2.572      0.010       0.024       0.176\n",
      "C(messages, Treatment(reference='Control'))[T.Neighbors]:C(age)[T.76]      0.0733      0.040      1.825      0.068      -0.005       0.152\n",
      "C(messages, Treatment(reference='Control'))[T.Neighbors]:C(age)[T.77]      0.0348      0.040      0.877      0.381      -0.043       0.113\n",
      "C(messages, Treatment(reference='Control'))[T.Neighbors]:C(age)[T.78]      0.0413      0.042      0.985      0.325      -0.041       0.124\n",
      "C(messages, Treatment(reference='Control'))[T.Neighbors]:C(age)[T.79]      0.0578      0.041      1.401      0.161      -0.023       0.139\n",
      "C(messages, Treatment(reference='Control'))[T.Neighbors]:C(age)[T.80]      0.0469      0.043      1.100      0.271      -0.037       0.130\n",
      "C(messages, Treatment(reference='Control'))[T.Neighbors]:C(age)[T.81]      0.0790      0.044      1.796      0.072      -0.007       0.165\n",
      "C(messages, Treatment(reference='Control'))[T.Neighbors]:C(age)[T.82]      0.0528      0.046      1.141      0.254      -0.038       0.144\n",
      "C(messages, Treatment(reference='Control'))[T.Neighbors]:C(age)[T.83]      0.0349      0.047      0.744      0.457      -0.057       0.127\n",
      "C(messages, Treatment(reference='Control'))[T.Neighbors]:C(age)[T.84]      0.0816      0.051      1.593      0.111      -0.019       0.182\n",
      "C(messages, Treatment(reference='Control'))[T.Neighbors]:C(age)[T.85]     -0.0329      0.056     -0.586      0.558      -0.143       0.077\n",
      "C(messages, Treatment(reference='Control'))[T.Neighbors]:C(age)[T.86]      0.0689      0.054      1.277      0.202      -0.037       0.175\n",
      "C(messages, Treatment(reference='Control'))[T.Neighbors]:C(age)[T.87]      0.0068      0.058      0.117      0.907      -0.107       0.120\n",
      "C(messages, Treatment(reference='Control'))[T.Neighbors]:C(age)[T.88]      0.0863      0.072      1.203      0.229      -0.054       0.227\n",
      "C(messages, Treatment(reference='Control'))[T.Neighbors]:C(age)[T.89]      0.0644      0.077      0.841      0.401      -0.086       0.214\n",
      "C(messages, Treatment(reference='Control'))[T.Neighbors]:C(age)[T.90]      0.0446      0.078      0.573      0.567      -0.108       0.197\n",
      "C(messages, Treatment(reference='Control'))[T.Neighbors]:C(age)[T.91]     -0.0015      0.079     -0.019      0.985      -0.157       0.153\n",
      "C(messages, Treatment(reference='Control'))[T.Neighbors]:C(age)[T.92]      0.1974      0.088      2.237      0.025       0.024       0.370\n",
      "C(messages, Treatment(reference='Control'))[T.Neighbors]:C(age)[T.93]      0.0016      0.095      0.017      0.987      -0.185       0.188\n",
      "C(messages, Treatment(reference='Control'))[T.Neighbors]:C(age)[T.94]      0.1493      0.105      1.416      0.157      -0.057       0.356\n",
      "C(messages, Treatment(reference='Control'))[T.Neighbors]:C(age)[T.95]     -0.1411      0.116     -1.212      0.225      -0.369       0.087\n",
      "C(messages, Treatment(reference='Control'))[T.Neighbors]:C(age)[T.96]      0.0061      0.144      0.042      0.966      -0.276       0.288\n",
      "C(messages, Treatment(reference='Control'))[T.Neighbors]:C(age)[T.97]     -0.1706      0.173     -0.986      0.324      -0.510       0.169\n",
      "C(messages, Treatment(reference='Control'))[T.Neighbors]:C(age)[T.98]     -0.2206      0.251     -0.879      0.379      -0.712       0.271\n",
      "C(messages, Treatment(reference='Control'))[T.Neighbors]:C(age)[T.99]      0.0774      0.218      0.356      0.722      -0.349       0.504\n",
      "C(messages, Treatment(reference='Control'))[T.Neighbors]:C(age)[T.100]    -0.3956      0.310     -1.278      0.201      -1.002       0.211\n",
      "C(messages, Treatment(reference='Control'))[T.Neighbors]:C(age)[T.101]    -0.3206      0.479     -0.669      0.503      -1.259       0.618\n",
      "C(messages, Treatment(reference='Control'))[T.Neighbors]:C(age)[T.102]    -0.0206      0.396     -0.052      0.958      -0.796       0.755\n",
      "C(messages, Treatment(reference='Control'))[T.Neighbors]:C(age)[T.103]    -0.0206      0.493     -0.042      0.967      -0.987       0.946\n",
      "C(messages, Treatment(reference='Control'))[T.Neighbors]:C(age)[T.104]          0          0        nan        nan           0           0\n",
      "C(messages, Treatment(reference='Control'))[T.Neighbors]:C(age)[T.105]          0          0        nan        nan           0           0\n",
      "C(messages, Treatment(reference='Control'))[T.Neighbors]:C(age)[T.106]          0          0        nan        nan           0           0\n",
      "C(messages, Treatment(reference='Control'))[T.Neighbors]:C(age)[T.108]          0          0        nan        nan           0           0\n",
      "==============================================================================\n",
      "Omnibus:                   460724.093   Durbin-Watson:                   1.419\n",
      "Prob(Omnibus):                  0.000   Jarque-Bera (JB):            38686.636\n",
      "Skew:                           0.782   Prob(JB):                         0.00\n",
      "Kurtosis:                       1.734   Cond. No.                     1.03e+16\n",
      "==============================================================================\n",
      "\n",
      "Notes:\n",
      "[1] Standard Errors assume that the covariance matrix of the errors is correctly specified.\n",
      "[2] The smallest eigenvalue is 2.29e-27. This might indicate that there are\n",
      "strong multicollinearity problems or that the design matrix is singular.\n"
     ]
    }
   ],
   "source": [
    "print(reg1.summary())"
   ]
  },
  {
   "cell_type": "code",
   "execution_count": null,
   "id": "a5322432-c264-438b-b6bc-b5f0d983f40e",
   "metadata": {},
   "outputs": [],
   "source": []
  }
 ],
 "metadata": {
  "kernelspec": {
   "display_name": "Python 3 (ipykernel)",
   "language": "python",
   "name": "python3"
  },
  "language_info": {
   "codemirror_mode": {
    "name": "ipython",
    "version": 3
   },
   "file_extension": ".py",
   "mimetype": "text/x-python",
   "name": "python",
   "nbconvert_exporter": "python",
   "pygments_lexer": "ipython3",
   "version": "3.10.18"
  }
 },
 "nbformat": 4,
 "nbformat_minor": 5
}
